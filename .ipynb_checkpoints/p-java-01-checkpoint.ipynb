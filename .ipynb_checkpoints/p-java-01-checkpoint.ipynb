{
 "cells": [
  {
   "cell_type": "markdown",
   "id": "5cc68d42-3f8d-4039-be1e-f10ef08e500d",
   "metadata": {},
   "source": [
    "# Exercicis Java Basics 01"
   ]
  },
  {
   "cell_type": "markdown",
   "id": "bb76b7ae-9b62-4948-a6a5-30a46025c2ec",
   "metadata": {},
   "source": [
    "## Exercici 1"
   ]
  },
  {
   "cell_type": "code",
   "execution_count": 1,
   "id": "72d7f16a-6462-44c3-a4b0-b34b82f12048",
   "metadata": {},
   "outputs": [],
   "source": [
    "int v = 55;\n",
    "int w = 12;\n",
    "\n",
    "//HACEIS UNA ESTRUCTURA CONDICIONAL QUE ME IMPRIMA:\n",
    "//\"v es multiplo de w\" si v es multiplo de w\n",
    "//\"v NO es multiplo de w\" en caso contrario\n",
    "\n",
    "//Un numero es múltiplo de otro numero (enteros)\n",
    "//si y solo si el resto de la division (el módulo) es 0."
   ]
  },
  {
   "cell_type": "markdown",
   "id": "b57dea91-0b2d-44a7-9179-d7442816287a",
   "metadata": {},
   "source": [
    "## Exercici 2\n",
    "\n",
    "Ejecuta este código y explica el resultado que da.\n",
    "\n",
    "_Nota_: el operador ``!`` es la negación lógica, es decir, pasa a ``true`` lo que es ``false`` y viceversa."
   ]
  },
  {
   "cell_type": "code",
   "execution_count": 2,
   "id": "fa4bfb15-496b-4db3-9a49-caf04489ff62",
   "metadata": {},
   "outputs": [
    {
     "name": "stdout",
     "output_type": "stream",
     "text": [
      "Res no es false\n"
     ]
    }
   ],
   "source": [
    "int b = 6, c = 5, f = 8, t = 12;\n",
    "boolean me = true, you = false;\n",
    "boolean res = !(!(b >= c) || (f > t) && me || you);\n",
    "if (!res && res)\n",
    "  System.out.println(\"Res no es true\");\n",
    "else\n",
    "  System.out.println(\"Res no es false\");"
   ]
  },
  {
   "cell_type": "markdown",
   "id": "d14dbc88-3839-4982-ba42-8d30faa5d590",
   "metadata": {},
   "source": [
    "## Exercici 3\n",
    "\n",
    "Completa el código sustituyendo ``true`` en las condiciones, por expresiones booleanas, usando comparaciones y ``&&`` o ``||`` si fuese necesario, para que la ejecución de la estructura condicional tenga sentido al cambiar los valores asignados a la variable ``edat`` para distintas edades."
   ]
  },
  {
   "cell_type": "code",
   "execution_count": 3,
   "id": "6db583a1-777b-4031-ba47-43b6df9319af",
   "metadata": {},
   "outputs": [
    {
     "name": "stdout",
     "output_type": "stream",
     "text": [
      "Edat vàlida: ets major d'edat \n"
     ]
    }
   ],
   "source": [
    "int edat = 11;\n",
    "\n",
    "if (true)\n",
    "    System.out.printf(\"Edat vàlida: ets major d'edat %n\");\n",
    "else if (true){\n",
    "    System.out.printf(\"Edat vàlida, pero, ets menor %n\");\n",
    "    System.out.printf(\"Edat vàlida, ets un adolescent %n\");\n",
    "    }\n",
    "else if (true){\n",
    "    System.out.printf(\"Edat vàlida, pero, ets menor %n\");\n",
    "    System.out.printf(\"Edat vàlida, ets un nen %n\");\n",
    "    }\n",
    "else\n",
    "    System.out.printf(\"Edat invàlida, no has nascut %n\");\n",
    "\n",
    "//System.out.printf(\"Edat vàlida, ets un adolescent %n\");//de 12 a 17\n",
    "//System.out.printf(\"Edat vàlida, ets un nen %n\");//de 0 a 11"
   ]
  },
  {
   "cell_type": "markdown",
   "id": "4cb1aa1d-aff4-4151-a3ef-680db82258db",
   "metadata": {},
   "source": [
    "## Exercici 4\n",
    "\n",
    "Realiza un pequeño programa (_snippet_) que, dados dos números decimales (de tipo **boolean**) te imprima por pantalla el resultado de su suma, su resta, su multiplicación y su división.\n",
    "\n",
    "Posteriormente, tu programa debe imprimir también y a parte, de entre todos los resultados obtenidos antes, cuál es el menor y cuál es el mayor.\n",
    "\n",
    "Por ejemplo:\n",
    "\n",
    "```java\n",
    "double a = 4.0;\n",
    "double b = 2.0;\n",
    "\n",
    "//te imprimirá:\n",
    "```\n",
    "```\n",
    "Suma: 6.0\n",
    "Resta: 2.0\n",
    "Multiplicación: 8.0\n",
    "División: 2.0\n",
    "\n",
    "El resultado menor es: 2.0\n",
    "El resultado mayor es: 8.0\n",
    "```"
   ]
  },
  {
   "cell_type": "code",
   "execution_count": 4,
   "id": "8acdfeff-1948-4f21-aa07-22fbfeeac929",
   "metadata": {},
   "outputs": [],
   "source": [
    "//Escribe tu código aqui"
   ]
  },
  {
   "cell_type": "code",
   "execution_count": null,
   "id": "82ae74b1-cf54-4606-9f1f-ce98b6ce6689",
   "metadata": {},
   "outputs": [],
   "source": []
  }
 ],
 "metadata": {
  "kernelspec": {
   "display_name": "Java",
   "language": "java",
   "name": "java"
  },
  "language_info": {
   "codemirror_mode": "java",
   "file_extension": ".jshell",
   "mimetype": "text/x-java-source",
   "name": "Java",
   "pygments_lexer": "java",
   "version": "11.0.17+8-LTS"
  }
 },
 "nbformat": 4,
 "nbformat_minor": 5
}
